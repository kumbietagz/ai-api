{
 "cells": [
  {
   "cell_type": "code",
   "execution_count": 1,
   "id": "074956f7",
   "metadata": {},
   "outputs": [
    {
     "name": "stderr",
     "output_type": "stream",
     "text": [
      "c:\\users\\anesu\\appdata\\local\\programs\\python\\python39\\lib\\site-packages\\sklearn\\base.py:329: UserWarning: Trying to unpickle estimator DecisionTreeClassifier from version 0.23.2 when using version 1.0.2. This might lead to breaking code or invalid results. Use at your own risk. For more info please refer to:\n",
      "https://scikit-learn.org/stable/modules/model_persistence.html#security-maintainability-limitations\n",
      "  warnings.warn(\n",
      "c:\\users\\anesu\\appdata\\local\\programs\\python\\python39\\lib\\site-packages\\sklearn\\base.py:329: UserWarning: Trying to unpickle estimator RandomForestClassifier from version 0.23.2 when using version 1.0.2. This might lead to breaking code or invalid results. Use at your own risk. For more info please refer to:\n",
      "https://scikit-learn.org/stable/modules/model_persistence.html#security-maintainability-limitations\n",
      "  warnings.warn(\n"
     ]
    }
   ],
   "source": [
    "import joblib\n",
    "\n",
    "forest_job = joblib.load('RandomForest.pkl')"
   ]
  },
  {
   "cell_type": "code",
   "execution_count": 2,
   "id": "5c05fd12",
   "metadata": {},
   "outputs": [
    {
     "data": {
      "text/plain": [
       "array(['rice'], dtype=object)"
      ]
     },
     "execution_count": 2,
     "metadata": {},
     "output_type": "execute_result"
    }
   ],
   "source": [
    "forest_job.predict([[90,\n",
    "42,\n",
    "43,\n",
    "20.87974371,\n",
    "82.00274423,\n",
    "6.502985292000001,\n",
    "202.9355362]])"
   ]
  },
  {
   "cell_type": "code",
   "execution_count": null,
   "id": "dd335969",
   "metadata": {},
   "outputs": [],
   "source": [
    "{\"nitrogen\":90,\"phosphorous\":42,\"potassium\":43,\"temperature\":20.87974371, \"humidity\":82.00274423 ,\"ph\":6.502985292000001, \"rainfall\":202.9355362}"
   ]
  }
 ],
 "metadata": {
  "kernelspec": {
   "display_name": "Python 3 (ipykernel)",
   "language": "python",
   "name": "python3"
  },
  "language_info": {
   "codemirror_mode": {
    "name": "ipython",
    "version": 3
   },
   "file_extension": ".py",
   "mimetype": "text/x-python",
   "name": "python",
   "nbconvert_exporter": "python",
   "pygments_lexer": "ipython3",
   "version": "3.9.5"
  }
 },
 "nbformat": 4,
 "nbformat_minor": 5
}
